{
 "cells": [
  {
   "cell_type": "markdown",
   "metadata": {},
   "source": [
    "# Подготовка текстов эбстрактов статей новостного архива SpectrumNews (https://www.spectrumnews.org/news-archive/) к анализу"
   ]
  },
  {
   "cell_type": "markdown",
   "metadata": {},
   "source": [
    "Код ниже совершает следующие действия с базой текстов SpectrumNews.\n",
    "\n",
    " 1. Импортирует базу в Python\n",
    " 2. Очищает данные от лишних символов: знаков препинания и двойных пробелов\n",
    " 3. Приводит все тексты к нижниму регистру\n",
    " 4. Производит лемматизацию тектсов (приводит слова в изначальную форму)\n",
    " 5. Удаляет стор-слова из текстов"
   ]
  },
  {
   "cell_type": "markdown",
   "metadata": {},
   "source": [
    "Импортируем модуль pandas для работы с базами данных и импортируем необходимую базу данных."
   ]
  },
  {
   "cell_type": "code",
   "execution_count": null,
   "metadata": {},
   "outputs": [],
   "source": [
    "import pandas as pd"
   ]
  },
  {
   "cell_type": "code",
   "execution_count": null,
   "metadata": {},
   "outputs": [],
   "source": [
    "df=pd.read_excel('SpectrumNews_Publications.xlsx')"
   ]
  },
  {
   "cell_type": "code",
   "execution_count": null,
   "metadata": {},
   "outputs": [],
   "source": [
    "df"
   ]
  },
  {
   "cell_type": "markdown",
   "metadata": {},
   "source": [
    "База данных несколько отличается от базы из предыдущего задания. Для выполнения ДЗ_2 мною были выгружены данные по всем новостным статьям портала SpectrumNews, начиная с декабря 2007 года."
   ]
  },
  {
   "cell_type": "markdown",
   "metadata": {},
   "source": [
    "Прежде чем приступать к обработке всех эбстрактов, сперва на основе 1169 строки будут проведены все предполагаемые этапы и созданы функции для обработки."
   ]
  },
  {
   "cell_type": "code",
   "execution_count": null,
   "metadata": {},
   "outputs": [],
   "source": [
    "text=df.loc[2518, 'Abstract']\n",
    "text"
   ]
  },
  {
   "cell_type": "markdown",
   "metadata": {},
   "source": [
    "Очистка текстов от знаков препинания (кроме - в словах)и цифр."
   ]
  },
  {
   "cell_type": "code",
   "execution_count": null,
   "metadata": {},
   "outputs": [],
   "source": [
    "new_text=[]\n",
    "for i in text:\n",
    "    if i.isalpha() or i==' ' or i=='-':\n",
    "        new_text.append(i)\n",
    "''.join(new_text)"
   ]
  },
  {
   "cell_type": "code",
   "execution_count": null,
   "metadata": {},
   "outputs": [],
   "source": [
    "def delete_all_but_text(text):\n",
    "    new_text=[]\n",
    "    for i in text:\n",
    "        if i.isalpha() or i==' ' or i=='-':\n",
    "            new_text.append(i)\n",
    "    return ''.join(new_text)"
   ]
  },
  {
   "cell_type": "code",
   "execution_count": null,
   "metadata": {},
   "outputs": [],
   "source": [
    "text=delete_all_but_text(text)\n",
    "text"
   ]
  },
  {
   "cell_type": "markdown",
   "metadata": {},
   "source": [
    "В тексте остались дефисы и появились двойные пробелы. Следующие функции преобразуют дефисы в пробелы и очищают текст от двойных пробелов."
   ]
  },
  {
   "cell_type": "code",
   "execution_count": null,
   "metadata": {},
   "outputs": [],
   "source": [
    "while '-' in text:\n",
    "    text=text.replace('-', ' ')\n",
    "text"
   ]
  },
  {
   "cell_type": "code",
   "execution_count": null,
   "metadata": {},
   "outputs": [],
   "source": [
    "def turn_defs_to_space(text):\n",
    "    while '  ' in text:\n",
    "        text=text.replace('  ', ' ')\n",
    "    return(text)"
   ]
  },
  {
   "cell_type": "code",
   "execution_count": null,
   "metadata": {},
   "outputs": [],
   "source": [
    "while '  ' in text:\n",
    "    text=text.replace('  ', ' ')\n",
    "text"
   ]
  },
  {
   "cell_type": "code",
   "execution_count": null,
   "metadata": {},
   "outputs": [],
   "source": [
    "'  ' in text"
   ]
  },
  {
   "cell_type": "code",
   "execution_count": null,
   "metadata": {},
   "outputs": [],
   "source": [
    "def delete_doublespaces(text):\n",
    "    while '  ' in text:\n",
    "        text=text.replace('  ', ' ')\n",
    "    return(text)"
   ]
  },
  {
   "cell_type": "code",
   "execution_count": null,
   "metadata": {},
   "outputs": [],
   "source": [
    "delete_doublespaces(text)"
   ]
  },
  {
   "cell_type": "markdown",
   "metadata": {},
   "source": [
    "В некоторых текстах не убирались символы, которые обозначают закрывающиеся ковычки. Коды далее убирают эти символы, но при этом оставляют символы апострофа в фамилиях: в базе встречаются такие случаи."
   ]
  },
  {
   "cell_type": "code",
   "execution_count": null,
   "metadata": {},
   "outputs": [],
   "source": [
    "while 'ʼ ' in text:\n",
    "    text=text.replace('ʼ ', ' ')\n",
    "text"
   ]
  },
  {
   "cell_type": "code",
   "execution_count": null,
   "metadata": {},
   "outputs": [],
   "source": [
    "def delete_comas_after_text(text):\n",
    "    while 'ʼ ' in text:\n",
    "        text=text.replace('ʼ ', ' ')\n",
    "    return(text)"
   ]
  },
  {
   "cell_type": "code",
   "execution_count": null,
   "metadata": {},
   "outputs": [],
   "source": [
    "delete_comas_after_text(text)"
   ]
  },
  {
   "cell_type": "markdown",
   "metadata": {},
   "source": [
    "Следующая функция приводит все буквы в тексте к нижниму регистру."
   ]
  },
  {
   "cell_type": "code",
   "execution_count": null,
   "metadata": {},
   "outputs": [],
   "source": [
    "text=text.lower()\n",
    "text"
   ]
  },
  {
   "cell_type": "markdown",
   "metadata": {},
   "source": [
    "Импорт модуля nltk для лемматизации текстов и получения списка стоп-слов."
   ]
  },
  {
   "cell_type": "code",
   "execution_count": null,
   "metadata": {},
   "outputs": [],
   "source": [
    "#pip install nltk\n",
    "import nltk\n",
    "#nltk.download()"
   ]
  },
  {
   "cell_type": "code",
   "execution_count": null,
   "metadata": {},
   "outputs": [],
   "source": [
    "from nltk.stem import WordNetLemmatizer\n",
    "wnl=WordNetLemmatizer()"
   ]
  },
  {
   "cell_type": "markdown",
   "metadata": {},
   "source": [
    "Токенизация и лемматизация текста."
   ]
  },
  {
   "cell_type": "code",
   "execution_count": null,
   "metadata": {},
   "outputs": [],
   "source": [
    "text_words=nltk.word_tokenize(text)\n",
    "nltk.pos_tag(text_words)\n",
    "lemmed_tokens=[]\n",
    "for word, tag in nltk.pos_tag(text_words):\n",
    "    wntag = tag[0].lower()\n",
    "    wntag = wntag if wntag in ['a', 'r', 'n', 'v'] else None\n",
    "    lemmed_tokens.append(wnl.lemmatize(word, wntag) if wntag else word)\n",
    "lemmed_tokens"
   ]
  },
  {
   "cell_type": "code",
   "execution_count": null,
   "metadata": {},
   "outputs": [],
   "source": [
    "def lemmatize(text):\n",
    "    text_words=nltk.word_tokenize(text)\n",
    "    nltk.pos_tag(text_words)\n",
    "    lemmed_tokens=[]\n",
    "    for word, tag in nltk.pos_tag(text_words):\n",
    "        wntag = tag[0].lower()\n",
    "        wntag = wntag if wntag in ['a', 'r', 'n', 'v'] else None\n",
    "        lemmed_tokens.append(wnl.lemmatize(word, wntag) if wntag else word)\n",
    "    return lemmed_tokens    "
   ]
  },
  {
   "cell_type": "markdown",
   "metadata": {},
   "source": [
    "Импорт из модуля nltk списка стоп-слов и расширение его с собственными.\n",
    "\n",
    "Тексты текущей базы данных содержат много аббревиатур и названий генов.\n",
    "\n",
    "Названия некоторых генов состоят из обычных аббревиатур (FMRP, NLGN4 и др.) и я не стал добавлять их в список стоп-слов, предполагая, что даже очищенные от цифр, они могут дать какой-то результат в последующем анализе.\n",
    "\n",
    "Некоторые названия генов в основном состояли из цифр и знаков препинания, имея лишь одну букву (22q13, 16p11.2). После очистки от цифр и знаков препинания оставались только буквы q и p. Они были добавлены в список стоп слов, потому что отдельные буквы не несут содержательной нагрузки."
   ]
  },
  {
   "cell_type": "code",
   "execution_count": null,
   "metadata": {},
   "outputs": [],
   "source": [
    "from nltk.corpus import stopwords\n",
    "sw_eng = list(set(stopwords.words('english')))\n",
    "len(sw_eng)"
   ]
  },
  {
   "cell_type": "code",
   "execution_count": null,
   "metadata": {},
   "outputs": [],
   "source": [
    "our_sw=['q', 'p']\n",
    "sw_eng.extend(our_sw)\n",
    "len(sw_eng)"
   ]
  },
  {
   "cell_type": "code",
   "execution_count": null,
   "metadata": {},
   "outputs": [],
   "source": [
    "sw_eng"
   ]
  },
  {
   "cell_type": "markdown",
   "metadata": {},
   "source": [
    "Очищение от стоп-слов и склеивание токенов в единый текст типа str."
   ]
  },
  {
   "cell_type": "code",
   "execution_count": null,
   "metadata": {
    "scrolled": true
   },
   "outputs": [],
   "source": [
    "tokens_no_stop_words=[]\n",
    "for word in lemmed_tokens:\n",
    "    if word not in sw_eng:\n",
    "        tokens_no_stop_words.append(word)\n",
    "    prepared_text=' '.join(tokens_no_stop_words)\n",
    "prepared_text"
   ]
  },
  {
   "cell_type": "code",
   "execution_count": null,
   "metadata": {
    "scrolled": true
   },
   "outputs": [],
   "source": [
    "def delete_stop_words(lemmed_tokens):\n",
    "    tokens_no_stop_words=[]\n",
    "    for word in lemmed_tokens:\n",
    "        if word not in sw_eng:\n",
    "            tokens_no_stop_words.append(word)\n",
    "        prepared_text=' '.join(tokens_no_stop_words)\n",
    "    return prepared_text"
   ]
  },
  {
   "cell_type": "markdown",
   "metadata": {},
   "source": [
    "Все необходимые функции были составлены, теперь будет произведена подготовка всех текстов базы данных."
   ]
  },
  {
   "cell_type": "markdown",
   "metadata": {},
   "source": [
    "Сперва обрабатываемые данные будут проверены на наличие миссингов, и в случае обнаружения они будут удалены."
   ]
  },
  {
   "cell_type": "code",
   "execution_count": null,
   "metadata": {},
   "outputs": [],
   "source": [
    "df['Abstract'].isna().sum()"
   ]
  },
  {
   "cell_type": "code",
   "execution_count": null,
   "metadata": {},
   "outputs": [],
   "source": [
    "df[df['Abstract'].isna()]"
   ]
  },
  {
   "cell_type": "code",
   "execution_count": null,
   "metadata": {},
   "outputs": [],
   "source": [
    "df=df.dropna()"
   ]
  },
  {
   "cell_type": "markdown",
   "metadata": {},
   "source": [
    "Далее будут последовательно применены функции по преобразованию текстов. Результаты будут сохраняться в отдельном столбце."
   ]
  },
  {
   "cell_type": "code",
   "execution_count": null,
   "metadata": {},
   "outputs": [],
   "source": [
    "df['Abstract_prpd'] = df['Abstract'].apply(delete_all_but_text)\n",
    "df['Abstract_prpd']"
   ]
  },
  {
   "cell_type": "code",
   "execution_count": null,
   "metadata": {},
   "outputs": [],
   "source": [
    "df['Abstract_prpd']=df['Abstract_prpd'].apply(delete_comas_after_text)\n",
    "df['Abstract_prpd']"
   ]
  },
  {
   "cell_type": "code",
   "execution_count": null,
   "metadata": {},
   "outputs": [],
   "source": [
    "df['Abstract_prpd'] = df['Abstract_prpd'].apply(turn_defs_to_space)\n",
    "df['Abstract_prpd']"
   ]
  },
  {
   "cell_type": "code",
   "execution_count": null,
   "metadata": {},
   "outputs": [],
   "source": [
    "df['Abstract_prpd'] = df['Abstract_prpd'].apply(delete_doublespaces)\n",
    "df['Abstract_prpd']"
   ]
  },
  {
   "cell_type": "code",
   "execution_count": null,
   "metadata": {},
   "outputs": [],
   "source": [
    "df['Abstract_prpd']=df['Abstract_prpd'].str.lower()\n",
    "df['Abstract_prpd']"
   ]
  },
  {
   "cell_type": "code",
   "execution_count": null,
   "metadata": {},
   "outputs": [],
   "source": [
    "df['Abstract_prpd']=df['Abstract_prpd'].apply(lemmatize)\n",
    "df['Abstract_prpd']"
   ]
  },
  {
   "cell_type": "code",
   "execution_count": null,
   "metadata": {},
   "outputs": [],
   "source": [
    "df['Abstract_prpd']=df['Abstract_prpd'].apply(delete_stop_words)\n",
    "df['Abstract_prpd']"
   ]
  },
  {
   "cell_type": "code",
   "execution_count": null,
   "metadata": {},
   "outputs": [],
   "source": [
    "df"
   ]
  },
  {
   "cell_type": "markdown",
   "metadata": {},
   "source": [
    "Результаты подготовки данных сохраняются в excel."
   ]
  },
  {
   "cell_type": "code",
   "execution_count": null,
   "metadata": {},
   "outputs": [],
   "source": [
    "df.to_excel('SpectrumNews_Publications_Prepared.xlsx')"
   ]
  }
 ],
 "metadata": {
  "kernelspec": {
   "display_name": "Python 3",
   "language": "python",
   "name": "python3"
  },
  "language_info": {
   "codemirror_mode": {
    "name": "ipython",
    "version": 3
   },
   "file_extension": ".py",
   "mimetype": "text/x-python",
   "name": "python",
   "nbconvert_exporter": "python",
   "pygments_lexer": "ipython3",
   "version": "3.7.0"
  }
 },
 "nbformat": 4,
 "nbformat_minor": 2
}
